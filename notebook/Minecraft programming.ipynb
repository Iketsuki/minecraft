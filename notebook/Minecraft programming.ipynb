{
 "cells": [
  {
   "cell_type": "markdown",
   "metadata": {
    "collapsed": true
   },
   "source": [
    "# Minecraft Programming\n",
    "\n",
    "## Resources\n",
    "\n",
    "* Introduction to the Minecraft Python API: http://www.stuffaboutcode.com/2013/04/minecraft-pi-edition-api-tutorial.html\n",
    "* API reference: http://www.stuffaboutcode.com/p/minecraft-api-reference.html\n"
   ]
  },
  {
   "cell_type": "markdown",
   "metadata": {},
   "source": [
    "## The Fence\n",
    "\n",
    "*Objective:* Use if conditions to detect on what side of a fence one is. Reinforcement of coordinates from Intro.\n",
    "\n",
    "\n",
    "* Go to a flat area.\n",
    "* Build a small fence (as shown on the screenshot) along the *x* axis, that is *z* should not change along the wall.\n",
    "![fence](./screenshots/fence.png)\n",
    "* Step on the fence, and walk along it, to determine its orientation. *y* will not change.\n",
    "* Once you know what coordinate you built it along, you're ready to write the code."
   ]
  },
  {
   "cell_type": "code",
   "execution_count": null,
   "metadata": {
    "collapsed": true
   },
   "outputs": [],
   "source": [
    "import mcpi.minecraft as minecraft\n",
    "import mcpi.block as block\n",
    "import time\n",
    "mc = minecraft.Minecraft.create()"
   ]
  },
  {
   "cell_type": "code",
   "execution_count": null,
   "metadata": {
    "collapsed": false
   },
   "outputs": [],
   "source": [
    "while True:\n",
    "    time.sleep(1)\n",
    "    pos = mc.player.getTilePos()\n",
    "    if pos.z < z:    # what's the fence z coordinate?\n",
    "        print(\"North of the fence.\")\n",
    "    elif pos.z > z:  # what's the fence z coordinate?\n",
    "        print(\"South of the fence.\")\n",
    "    else:\n",
    "        print(\"On the fence.\")"
   ]
  },
  {
   "cell_type": "markdown",
   "metadata": {},
   "source": [
    "**Try it!** Do you want to print to the Shell or to Minecraft chat?"
   ]
  },
  {
   "cell_type": "code",
   "execution_count": null,
   "metadata": {
    "collapsed": true
   },
   "outputs": [],
   "source": []
  },
  {
   "cell_type": "markdown",
   "metadata": {},
   "source": [
    "\n",
    "## The Cross\n",
    "\n",
    "*Objective:* Use embedded if conditions and creative string concatenation\n",
    "\n",
    "* Enhance your fence to look like a cross, like in the screenshot\n",
    "![cross](./screenshots/cross.png)\n",
    "* Figure out where the midpoint is, that is the *x* and *z* coordinates.\n",
    "* You're ready to write the code.\n"
   ]
  },
  {
   "cell_type": "code",
   "execution_count": null,
   "metadata": {
    "collapsed": false,
    "scrolled": true
   },
   "outputs": [],
   "source": [
    "\n",
    "while True:\n",
    "    time.sleep(1)\n",
    "    pos = mc.player.getTilePos()\n",
    "    if pos.z operator z:      # use the required operator\n",
    "        north_south = \"North\"\n",
    "        if pos.x operator x:  # use the required operator\n",
    "            print(north_south + \" West\")\n",
    "        else:\n",
    "            print(north_south + \" East\")\n",
    "    elif pos.z operator z:    # use the required operator\n",
    "        north_south = \"South\"\n",
    "        if pos.x operator x:  # use the required operator\n",
    "            print(north_south + \" West\")\n",
    "        else:\n",
    "            print(north_south + \" East\")\n",
    "    else:\n",
    "        print()  # where am I now?"
   ]
  },
  {
   "cell_type": "markdown",
   "metadata": {},
   "source": [
    "## The Bulldozer\n",
    "\n",
    "*Objective:* Work with more embedded loops and relative coordinates.\n",
    "* This program lets you clear a large area and leave it suitable for building.\n",
    "![bulldozer](./screenshots/bulldozer.png)\n",
    "* In minecraft, an empty space is a block of type *AIR*"
   ]
  },
  {
   "cell_type": "code",
   "execution_count": null,
   "metadata": {
    "collapsed": true
   },
   "outputs": [],
   "source": [
    "pos = mc.player.getTilePos()\n",
    "for :  # three loops for a 20x20x20 cube\n",
    "    for :\n",
    "        for :\n",
    "            mc.setBlock(pos.x + x, pos.y + y, pos.z + z, block.AIR.id)"
   ]
  },
  {
   "cell_type": "markdown",
   "metadata": {},
   "source": [
    "- Where is the space relative to your position?\n",
    "- Can you clear the space with yourself in the center? Hint: coordinates go from -10 to +10 relative to you.\n",
    "- Are you digging down underground? How can you bulldoze 'above ground' (relative to where you are standing) or down but where y is greater than zero (don't go below sea-level)?\n",
    "- **Try it!** Write a function that takes (x, z) coordinates and bulldozes above sea-level with (x, z) at the center -- now you will have a bulldozer you can easily use in your other programs (basically everytime you build something, you can bulldoze first)."
   ]
  },
  {
   "cell_type": "code",
   "execution_count": null,
   "metadata": {
    "collapsed": true
   },
   "outputs": [],
   "source": [
    "def bulldoze(pos_x, pos_z):\n",
    "    #write your own bulldozer function here!"
   ]
  },
  {
   "cell_type": "code",
   "execution_count": null,
   "metadata": {
    "collapsed": false
   },
   "outputs": [],
   "source": [
    "player_pos = mc.player.getTilePos()\n",
    "bulldoze(player_pos.x + 10, player_pos.y + 10)"
   ]
  },
  {
   "cell_type": "markdown",
   "metadata": {},
   "source": [
    "\n",
    "## Anarkali\n",
    "\n",
    "Anarkali (Pomegranate Blossom) lived in 17th Century India. She fell in love with the Prince and the King built a wall around her to keep her and the Prince apart.\n",
    "\n",
    "*Objective:* Build four walls around your player when she steps onto the trap (and eventually help her escape).\n",
    "\n",
    "![Anarkali](./screenshots/anarkali.png)\n",
    "\n",
    "**Try it!** Before you start, you might want to sketch it out with pencil and paper. What range of coordinates will your walls cover?\n"
   ]
  },
  {
   "cell_type": "code",
   "execution_count": null,
   "metadata": {
    "collapsed": false
   },
   "outputs": [],
   "source": [
    "def buildWalls(x, y, z):\n",
    "    brick = block.BRICK_BLOCK.id\n",
    "    mc.setBlock(x-1, y, z-1, brick)\n",
    "    mc.setBlock(x, y, z-1, brick)\n",
    "    mc.setBlock(x+1, y, z-1, brick)\n",
    "    # Build the other 3 walls\n",
    "\n",
    "while True:\n",
    "    time.sleep(1)  # check every second\n",
    "    x, y, z = mc.player.getTilePos()\n",
    "    if : # player on trap position\n",
    "        buildWalls(x, y, z) # how many times do you need to build up (increase y)?\n",
    "        break  # end whlile loop (so we don't keep rebuilding the walls)"
   ]
  },
  {
   "cell_type": "markdown",
   "metadata": {},
   "source": [
    "While you experiment, you may need to keep changing your trap position to build a new structure in a different place.\n",
    "\n",
    "Make sure your walls are high enough to Anarkali can't jump out!\n",
    "\n",
    "Though it's fun to watch the blocks line up, there are faster ways to build structures. Rather than looping and setting a single block at a time, we can set a range of blocks together:"
   ]
  },
  {
   "cell_type": "code",
   "execution_count": null,
   "metadata": {
    "collapsed": false
   },
   "outputs": [],
   "source": [
    "# build a 3x3 cube (using start and end coordinates)\n",
    "x, y, z = mc.player.getTilePos()\n",
    "mc.setBlocks(x-1, y-1, z-1, x+1, y+1, z+1, block.BRICK_BLOCK.id) # where should y start and end?"
   ]
  },
  {
   "cell_type": "markdown",
   "metadata": {},
   "source": [
    "**Try it!** You can use the same trick for the bulldozer program you wrote earlier. In fact you should be bulldozing everytime you experiment with your tower contruction!"
   ]
  },
  {
   "cell_type": "code",
   "execution_count": null,
   "metadata": {
    "collapsed": true
   },
   "outputs": [],
   "source": []
  },
  {
   "cell_type": "markdown",
   "metadata": {},
   "source": [
    "But we don't need a solid cube. Set AIR blocks to hollow the inside."
   ]
  },
  {
   "cell_type": "code",
   "execution_count": null,
   "metadata": {
    "collapsed": false
   },
   "outputs": [],
   "source": [
    "x, y, z = mc.player.getTilePos()\n",
    "mc.setBlocks(x, y, z, x, y+1, z, block.BRICK_BLOCK.id) # how high does y need to go?"
   ]
  },
  {
   "cell_type": "markdown",
   "metadata": {},
   "source": [
    "You can also build a higher or thicker structure (to prevent escape). "
   ]
  },
  {
   "cell_type": "code",
   "execution_count": null,
   "metadata": {
    "collapsed": true
   },
   "outputs": [],
   "source": []
  },
  {
   "cell_type": "markdown",
   "metadata": {},
   "source": [
    "The King's heart softens and he allows the Prince to rescue Anarkali. The Prince sets a special timer that catapults Anarkali out of the walls and lands outside.\n",
    "You can set player position to help Anarkali escape. Use 'time' to wait (3 seconds) before the escape."
   ]
  },
  {
   "cell_type": "code",
   "execution_count": null,
   "metadata": {
    "collapsed": false
   },
   "outputs": [],
   "source": [
    "x, y, z = mc.player.getTilePos()\n",
    "mc.player.setPos(x+10, y+10, z+10)  # move player to a new position, and watch her fall to earth"
   ]
  },
  {
   "cell_type": "markdown",
   "metadata": {},
   "source": [
    "**Challenge:** What if Anarkali was born in Eygpt not India? Would the king build a tower, or... a Pyramid!"
   ]
  },
  {
   "cell_type": "code",
   "execution_count": null,
   "metadata": {
    "collapsed": true
   },
   "outputs": [],
   "source": []
  },
  {
   "cell_type": "markdown",
   "metadata": {},
   "source": [
    "**Challenge:** What else would you put around the tower / pyramid to prevent escape? A moat of water. Lava perhaps? Try a single block of WATER or LAVA (it flows!)."
   ]
  },
  {
   "cell_type": "code",
   "execution_count": null,
   "metadata": {
    "collapsed": true
   },
   "outputs": [],
   "source": []
  },
  {
   "cell_type": "markdown",
   "metadata": {},
   "source": [
    "## Build a House\n",
    "\n",
    "*Objective:* Build a house using the skills learned\n",
    "\n",
    "- Remember the house you built earlier? Let's try building the same using programming."
   ]
  },
  {
   "cell_type": "markdown",
   "metadata": {},
   "source": [
    "- First build a solid cuboid. \n",
    "![cube](./screenshots/build_cube.png)\n",
    "- Do you want to build it where you're standing (and get trapped inside), or some distance away from you?\n",
    "- **Try it!** bulldoze some space for your house before your start building. "
   ]
  },
  {
   "cell_type": "code",
   "execution_count": null,
   "metadata": {
    "collapsed": true
   },
   "outputs": [],
   "source": []
  },
  {
   "cell_type": "markdown",
   "metadata": {},
   "source": [
    "- Then clear the inside of the cuboid (your walls should be 1 block thick). That is, place an AIR cuboid inside your solid cuboid.\n",
    "- Once the cube is built, you can break up a few blocks to convince yourself that it is indeed hollow.\n",
    "![hollow cube](./screenshots/hollow_cube.png)"
   ]
  },
  {
   "cell_type": "code",
   "execution_count": null,
   "metadata": {
    "collapsed": true
   },
   "outputs": [],
   "source": []
  },
  {
   "cell_type": "markdown",
   "metadata": {},
   "source": [
    "- Understand why we have the +1 / -1 (depends which side of the house your hollowing).\n",
    "- Understand why the y dimension is special: because we don't need to hollow out the ground floor (did you?)"
   ]
  },
  {
   "cell_type": "markdown",
   "metadata": {},
   "source": [
    "### For fun: \n",
    "  - Go in and place some torches.\n",
    "  - Place a few windows using the glass block.\n",
    "  - Place some ladders on the outside to allow easy climbing to the roof.\n",
    "  - Put in some furniture, a bed, a stove, a door. Perhaps trees and flowers outside.\n",
    "  - Would a pool be nice? \n",
    "  - How about carpeting? (remember WOOL -- use colors for patterns).\n",
    "  - Perhaps it's not a house, but a castle! Build a tower on each corner. And a moat around."
   ]
  },
  {
   "cell_type": "code",
   "execution_count": null,
   "metadata": {
    "collapsed": true
   },
   "outputs": [],
   "source": []
  },
  {
   "cell_type": "markdown",
   "metadata": {},
   "source": [
    "### Personalize your house!\n",
    "- Place the house construction code inside a function, taking house dimensions as parameters. Because your're not just building your house, but a whole town!\n",
    "![house function](./screenshots/house_function.png)"
   ]
  },
  {
   "cell_type": "code",
   "execution_count": null,
   "metadata": {
    "collapsed": false
   },
   "outputs": [],
   "source": [
    "def build_house(width, depth, height):\n",
    "    # super awesome building code goes here\n"
   ]
  },
  {
   "cell_type": "markdown",
   "metadata": {},
   "source": [
    "\n",
    "## The Tunnel\n",
    "\n",
    "*Objective:* Introduce loops with interval and modulo\n",
    "\n",
    "- We will dig a tunnel through a mountain and light it up with torches every 3 blocks.\n",
    "- This is complicated enough that you will want to sketch it out on a piece of paper first, particular the concept of direction (which direction does your tunnel go?).\n",
    "- Can't find a mountain? You know how to build a BIG solid block of rock! We can tunnel through that."
   ]
  },
  {
   "cell_type": "code",
   "execution_count": null,
   "metadata": {
    "collapsed": true
   },
   "outputs": [],
   "source": []
  },
  {
   "cell_type": "markdown",
   "metadata": {},
   "source": [
    "- Write a function that takes the length and direction of your tunnel, and builds a tunnel from where you are standing.\n",
    "![tunnel](./screenshots/tunnel.png)\n",
    "- Use `input` to get input from the keyboard. (`raw_input` in python 2)"
   ]
  },
  {
   "cell_type": "code",
   "execution_count": null,
   "metadata": {
    "collapsed": false
   },
   "outputs": [],
   "source": [
    "def build_tunnel(length, direction):\n",
    "    print(\"building a tunnel of length: \" + str(length) + \" direction: \" + str(direction))\n",
    "    pos = mc.player.getTilePos()\n",
    "\n",
    "    start_x = pos.x\n",
    "    start_y = pos.y\n",
    "    start_z = pos.z\n",
    "\n",
    "    # setup defaults, which will be changed as needed\n",
    "    end_x = start_x\n",
    "    end_y = start_y + height # how high should your tunnel be? 2 blocks?\n",
    "    end_z = start_z\n",
    "\n",
    "    if direction == 1:\n",
    "        end_x = # depends on length and direction\n",
    "    elif direction == 2:\n",
    "        end_x = # depends on length and direction\n",
    "    elif direction == 3:\n",
    "        end_z = # depends on length and direction\n",
    "    elif direction == 4:\n",
    "        end_z = # depends on length and direction\n",
    "\n",
    "    # dig the tunnel\n",
    "    mc.setBlocks(start_x, start_y, start_z,\n",
    "                 end_x,   end_y,   end_z,\n",
    "                 block.AIR.id)\n",
    "\n",
    "length = int(input(\"length of tunnel?\"))\n",
    "direction = int(input(\"direction?\"))\n",
    "\n",
    "build_tunnel(length, direction)"
   ]
  },
  {
   "cell_type": "markdown",
   "metadata": {},
   "source": [
    "- Now let's add some torchers at regular intervals\n",
    "- First let´s review how does range work"
   ]
  },
  {
   "cell_type": "code",
   "execution_count": null,
   "metadata": {
    "collapsed": false
   },
   "outputs": [],
   "source": [
    "# how does range work?\n",
    "for i in range(0,20):\n",
    "    print(i)"
   ]
  },
  {
   "cell_type": "code",
   "execution_count": null,
   "metadata": {
    "collapsed": false
   },
   "outputs": [],
   "source": [
    "step = 3\n",
    "for i in range(0, 20, step):\n",
    "    print(i)"
   ]
  },
  {
   "cell_type": "markdown",
   "metadata": {},
   "source": [
    "- Torches will be need to be placed in the same direction as the tunnel"
   ]
  },
  {
   "cell_type": "code",
   "execution_count": null,
   "metadata": {
    "collapsed": true
   },
   "outputs": [],
   "source": [
    "torch_x = start_x\n",
    "torch_y = # above ground, depends on how high the tunnel is\n",
    "torch_z = start_z\n",
    "\n",
    "for i in range(0, length, 3):\n",
    "\n",
    "    if direction == 1:\n",
    "        # change torch_x or torch_z depending on direction\n",
    "    elif direction == 2:\n",
    "        # change torch_x or torch_z depending on direction\n",
    "    elif direction == 3:\n",
    "        # change torch_x or torch_z depending on direction\n",
    "    elif direction == 4:\n",
    "        # change torch_x or torch_z depending on direction\n",
    "     print(\"placing torch: \", torch_x, torch_y, torch_z)\n",
    "     mc.setBlock(torch_x, torch_y, torch_z, block.TORCH.id, 1)"
   ]
  },
  {
   "cell_type": "markdown",
   "metadata": {},
   "source": [
    "**Try it!** Put torches on both sides of the tunnel, using spaced intervals."
   ]
  },
  {
   "cell_type": "code",
   "execution_count": null,
   "metadata": {
    "collapsed": true
   },
   "outputs": [],
   "source": []
  },
  {
   "cell_type": "markdown",
   "metadata": {},
   "source": [
    "**Try it!** Build a tunnel which digs a few blocks under the ground, and places a staircase for easy access on both ends"
   ]
  },
  {
   "cell_type": "code",
   "execution_count": null,
   "metadata": {
    "collapsed": true
   },
   "outputs": [],
   "source": []
  },
  {
   "cell_type": "code",
   "execution_count": null,
   "metadata": {
    "collapsed": true
   },
   "outputs": [],
   "source": []
  }
 ],
 "metadata": {
  "kernelspec": {
   "display_name": "Python 3",
   "language": "python",
   "name": "python3"
  },
  "language_info": {
   "codemirror_mode": {
    "name": "ipython",
    "version": 3
   },
   "file_extension": ".py",
   "mimetype": "text/x-python",
   "name": "python",
   "nbconvert_exporter": "python",
   "pygments_lexer": "ipython3",
   "version": "3.4.2"
  }
 },
 "nbformat": 4,
 "nbformat_minor": 0
}
