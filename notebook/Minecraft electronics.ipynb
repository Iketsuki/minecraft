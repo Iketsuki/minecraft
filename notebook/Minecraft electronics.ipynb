{
 "cells": [
  {
   "cell_type": "markdown",
   "metadata": {},
   "source": [
    "# Electronics / GPIO (General Purpose IO)\n",
    "\n",
    "## Introduction\n",
    "\n",
    "A **Breadboard** is a reusbale device with a number of holes into which you push wires or components to create circuits. Breadboards  allow you to create circuits without needing to solder all the components. The two rows of holes at the top and bottom are for power.\n",
    "![Empty Breadboard](images/breadboard_empty.jpg)\n",
    "\n",
    "**Voltage** is the difference in electrical energy between two points in a circuit. This difference allows current to flow in a circuit, like water pressure in pipes. Voltage is measured in volts (V).\n",
    "\n",
    "An **LED** (Light-Emitting Diode) ligts up when electricty passes through it. A diode only allows current to pass in one direction and will only light up if you pass your current in the correct direction. LEDs have one short leg (cathode or negative) and one long leg (anode or positive).\n",
    "\n",
    "A **resistor** resists or limits current in a circuit. An LED can be damaged by too much current and adding a resistor of the correct value will limit the amount of current and the LED will be protected. Resistance is measured in Ohms and the value of a resistor is shown by coloured bands that are read from left to right. You can read more about color code on [wikipedia](https://en.wikipedia.org/wiki/Electronic_color_code). \n",
    "\n",
    "A **current** is the rate at which electrical energy flows through a circuit and is measured in amperes (A) or amps. Smaller currents are measured in milliApms (mA). You can read more about circuits [here](http://www.allaboutcircuits.com/textbook/direct-current/#chpt-1)."
   ]
  },
  {
   "cell_type": "markdown",
   "metadata": {},
   "source": [
    "\n",
    "## Setup instructions\n",
    "* The Raspberry PI should be up and running, no need to shut it down.\n",
    "* Insert the breakout board into the breadboard, being careful to line up the pins like on the picture below.\n",
    "* Connect the header cable between the Raspberry PI and the breakout board with the correct orientation (look at the red part of the cable ribbon).\n",
    "\n",
    "![Empty Breadboard](images/breadboard_empty.jpg)\n",
    "\n",
    "![RPI and Breadboard](images/rpi_and_breadboard.jpg)\n",
    "\n",
    "Through the rest of the lesson, keep the breadboard oriented in a way that the \n",
    "lettering on the breakout board is visible to you (i.e. you should see SDA, GND, \n",
    "etc).\n"
   ]
  },
  {
   "cell_type": "markdown",
   "metadata": {},
   "source": [
    "## A simple circuit\n",
    "\n",
    "- Connect an LED, a 330 Ohm resistor and two short wires to the positive + (red line) and negative - (blue line) rows as shown.\n",
    "\n",
    "![Single LED](images/led_setup.jpg)\n"
   ]
  },
  {
   "cell_type": "markdown",
   "metadata": {},
   "source": [
    "## A programmable circuit\n",
    "\n",
    "- Connect the positive + wire to GPIO pin 17.\n",
    "\n",
    "![Single LED](images/blinking_led_setup.jpg)"
   ]
  },
  {
   "cell_type": "code",
   "execution_count": null,
   "metadata": {
    "collapsed": true
   },
   "outputs": [],
   "source": [
    "# run this code first, only need to run it once\n",
    "import RPi.GPIO as GPIO\n",
    "import mcpi.minecraft as minecraft\n",
    "import mcpi.block as block\n",
    "import time\n",
    "\n",
    "mc = minecraft.Minecraft.create()"
   ]
  },
  {
   "cell_type": "markdown",
   "metadata": {},
   "source": [
    "**Flash LED only once**. You should see the light turn on for one second.\n",
    "* can you make it turn on for 5 seconds ?"
   ]
  },
  {
   "cell_type": "code",
   "execution_count": null,
   "metadata": {
    "collapsed": true
   },
   "outputs": [],
   "source": [
    "LED = 17\n",
    "GPIO.setmode(GPIO.BCM)\n",
    "GPIO.setup(LED, GPIO.OUT)  # setup for output\n",
    "\n",
    "GPIO.output(LED, True)\n",
    "time.sleep(1.0)\n",
    "\n",
    "GPIO.cleanup()  # reset GPIO and disble circuitry"
   ]
  },
  {
   "cell_type": "markdown",
   "metadata": {},
   "source": [
    "**Try it!** Make your LED flash forever\n",
    "* Will this program work ? Try it\n",
    "* If it doesn't work, fix it !"
   ]
  },
  {
   "cell_type": "code",
   "execution_count": null,
   "metadata": {
    "collapsed": false
   },
   "outputs": [],
   "source": [
    "LED = 17\n",
    "GPIO.setmode(GPIO.BCM)\n",
    "GPIO.setup(LED, GPIO.OUT)\n",
    "\n",
    "def flash(t):\n",
    "    GPIO.output(LED, True)  # LED on\n",
    "    time.sleep(t)\n",
    "    GPIO.output(LED, False) # LED off\n",
    "    time.sleep(t)\n",
    "\n",
    "try:\n",
    "    while True:\n",
    "        flash(seconds)  # how many seconds to flash?\n",
    "finally:\n",
    "    GPIO.cleanup()"
   ]
  },
  {
   "cell_type": "markdown",
   "metadata": {},
   "source": [
    "**Try it!** Make your LED flash only 3 times using `for x in range(0,3)`\n",
    "* Think about what you need to change in the program above, to only flash the LED 3 times\n",
    "* Copy the parts that you need from the program above into the cell below, then run."
   ]
  },
  {
   "cell_type": "code",
   "execution_count": null,
   "metadata": {
    "collapsed": true
   },
   "outputs": [],
   "source": []
  },
  {
   "cell_type": "markdown",
   "metadata": {},
   "source": [
    "## The Intruder Alarm\n",
    "\n",
    "Using the flashing LED circuit you've created above, we will create an **Intruder Alarm**. It will tell us whether someone is inside our house, or our fence.\n",
    "\n",
    "- Build a rectangular fence like on the screenshot below, or use a house that you've created previously.\n",
    "- Previously, we're written some code to react based on your position compared to a wall. \n",
    "- The code will be similar, will need to figure out whether your current position is:\n",
    "  - below the northern wall\n",
    "  - above the southern wall\n",
    "  - right of the leftmost wall\n",
    "  - left of the rightmost wall\n",
    "- Once the code is written, test it out by jumping in and out of your fence. The LED should light up when inside, and turn off when outside.\n",
    "\n",
    "![LED Fence](screenshots/led_fence.png)\n"
   ]
  },
  {
   "cell_type": "code",
   "execution_count": 5,
   "metadata": {
    "collapsed": false
   },
   "outputs": [
    {
     "ename": "SyntaxError",
     "evalue": "invalid syntax (<ipython-input-5-c78acb23f7ba>, line 6)",
     "output_type": "error",
     "traceback": [
      "\u001b[1;36m  File \u001b[1;32m\"<ipython-input-5-c78acb23f7ba>\"\u001b[1;36m, line \u001b[1;32m6\u001b[0m\n\u001b[1;33m    def inside_house:\u001b[0m\n\u001b[1;37m                    ^\u001b[0m\n\u001b[1;31mSyntaxError\u001b[0m\u001b[1;31m:\u001b[0m invalid syntax\n"
     ]
    }
   ],
   "source": [
    "LED = 17\n",
    "GPIO.setmode(GPIO.BCM)\n",
    "GPIO.setup(LED, GPIO.OUT)\n",
    "\n",
    "# the function below is not complete. It's your job to make it work !\n",
    "def inside_house:\n",
    "    return False\n",
    "\n",
    "try:\n",
    "    while True:\n",
    "        if inside_house():\n",
    "            GPIO.output(LED, True)  # LED on\n",
    "        else:\n",
    "            GPIO.output(LED, False)  # LED off\n",
    "            \n",
    "finally:\n",
    "    GPIO.cleanup()"
   ]
  },
  {
   "cell_type": "markdown",
   "metadata": {},
   "source": [
    "**Try it!** Make the LED flash when the intruder is getting **close** to the house, but not yet inside the house."
   ]
  },
  {
   "cell_type": "code",
   "execution_count": null,
   "metadata": {
    "collapsed": true
   },
   "outputs": [],
   "source": []
  },
  {
   "cell_type": "markdown",
   "metadata": {},
   "source": [
    "## Programmable Button\n",
    "\n",
    "- Add a button to the circuit: the button has four pins and fits nicely accross the midway point of the breadboard.\n",
    "- Connect the button to GPIO pin 4 (positive +), and a 330 Ohm resistor to GND (negative -) as shown.\n",
    "- You also need a resistor for the button to 'pull up' the button input to 3.3 volts, otherwise your button will generate spurious presses.\n",
    "- When the button is not pressed (and no connection is made) the wire that connects the GPIO will be at 3.3 volts and the GPIO pin will interpret this as signal '1' or True (try printing the value of `GPIO.input(BUTTON)`). When you press the button, the circuit between the left and right hand pins will be completed abnd the GPIO wire is 'pulled down' to 0 volts. Now the GPIO pin will interpret the signal as '0' or False.\n",
    " \n",
    "![three_led_pushbutton](images/three_leds_pushbutton.jpg)\n",
    "![three_led_pushbutton](images/three_leds_pushbutton_top.jpg)"
   ]
  },
  {
   "cell_type": "code",
   "execution_count": null,
   "metadata": {
    "collapsed": true
   },
   "outputs": [],
   "source": [
    "BUTTON = 4\n",
    "GPIO.setmode(GPIO.BCM)\n",
    "GPIO.setup(BUTTON, GPIO.IN, pull_up_down=GPIO.PUD_UP)   # setup for input\n",
    "\n",
    "try:\n",
    "    while GPIO.input(BUTTON):\n",
    "        time.sleep(0.1)\n",
    "\n",
    "    mc.postToChat('Button pressed!')\n",
    "    \n",
    "finally:\n",
    "    GPIO.cleanup()  # reset GPIO and disable circuitry"
   ]
  },
  {
   "cell_type": "markdown",
   "metadata": {},
   "source": [
    "## The Bulldozer Countdown\n",
    "\n",
    "Using the circuit above, we will create a bulldozer countdown. After pressing the button, there will be a 3-second countdown using the 3 LEDs. Then the bulldozer code will be executed to clear space around you.\n",
    "\n",
    "- Think about how to turn on all 3 LEDs together. You may call 3 separate **GPIO.output(LED, True)** instructions, but there may be a better way !\n",
    "\n",
    "![LED Fence](screenshots/led_countdown_bulldozer.png)"
   ]
  },
  {
   "cell_type": "code",
   "execution_count": null,
   "metadata": {
    "collapsed": true
   },
   "outputs": [],
   "source": []
  },
  {
   "cell_type": "markdown",
   "metadata": {},
   "source": [
    "**Try it!** What if I want to dig a bigger hole by pressing the button repeatedly ?"
   ]
  },
  {
   "cell_type": "code",
   "execution_count": null,
   "metadata": {
    "collapsed": true
   },
   "outputs": [],
   "source": []
  },
  {
   "cell_type": "markdown",
   "metadata": {},
   "source": [
    "**Try it!** Make the player jump up in the air when the bulldozer takes effect !"
   ]
  },
  {
   "cell_type": "code",
   "execution_count": null,
   "metadata": {
    "collapsed": true
   },
   "outputs": [],
   "source": []
  }
 ],
 "metadata": {
  "kernelspec": {
   "display_name": "Python 2",
   "language": "python",
   "name": "python2"
  },
  "language_info": {
   "codemirror_mode": {
    "name": "ipython",
    "version": 2
   },
   "file_extension": ".py",
   "mimetype": "text/x-python",
   "name": "python",
   "nbconvert_exporter": "python",
   "pygments_lexer": "ipython2",
   "version": "2.7.9"
  }
 },
 "nbformat": 4,
 "nbformat_minor": 0
}
